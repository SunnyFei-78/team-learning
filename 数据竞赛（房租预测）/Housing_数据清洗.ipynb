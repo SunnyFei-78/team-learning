{
 "cells": [
  {
   "cell_type": "markdown",
   "metadata": {},
   "source": [
    "# 任务2 数据清洗(2天)\n",
    "每一步都要认真完成，附上代码，最终效果截图\n",
    "\n",
    "## 缺失值分析及处理\n",
    "\n",
    "* 缺失值出现的原因分析\n",
    "* 采取合适的方式对缺失值进行填充\n",
    "\n",
    "## 异常值分析及处理\n",
    "\n",
    "* 根据测试集数据的分布处理训练集的数据分布\n",
    "\n",
    "* 使用合适的方法找出异常值\n",
    "* 对异常值进行处理\n",
    "\n",
    "## 深度清洗\n",
    "\n",
    "* 分析每一个communityName、city、region、plate的数据分布并对其进行数据清洗\n",
    "\n",
    "\n",
    "\n"
   ]
  },
  {
   "cell_type": "markdown",
   "metadata": {
    "ExecuteTime": {
     "end_time": "2019-12-24T12:09:13.473805Z",
     "start_time": "2019-12-24T12:09:13.469815Z"
    }
   },
   "source": [
    "# 缺失值处理"
   ]
  },
  {
   "cell_type": "code",
   "execution_count": 1,
   "metadata": {
    "ExecuteTime": {
     "end_time": "2019-12-24T12:27:47.661750Z",
     "start_time": "2019-12-24T12:27:47.646789Z"
    }
   },
   "outputs": [],
   "source": [
    "#coding:utf-8\n",
    "#导入warnings包，利用过滤器来实现忽略警告语句。\n",
    "import warnings\n",
    "warnings.filterwarnings('ignore')\n",
    "\n",
    "import pandas as pd\n",
    "import numpy as np\n",
    "import matplotlib.pyplot as plt\n",
    "import seaborn as sns\n",
    "from sklearn.preprocessing import LabelEncoder\n",
    "from sklearn.ensemble import IsolationForest"
   ]
  },
  {
   "cell_type": "code",
   "execution_count": 2,
   "metadata": {
    "ExecuteTime": {
     "end_time": "2019-12-24T12:27:48.129500Z",
     "start_time": "2019-12-24T12:27:47.664741Z"
    }
   },
   "outputs": [],
   "source": [
    "#载入数据\n",
    "data_train = pd.read_csv('./data/train_data.csv')\n",
    "data_train['Type'] = 'Train'\n",
    "data_test = pd.read_csv('./data/test_a.csv')\n",
    "data_test['Type'] = 'Test'\n",
    "data_all = pd.concat([data_train, data_test], ignore_index=True)"
   ]
  },
  {
   "cell_type": "markdown",
   "metadata": {},
   "source": [
    "## 主要思路分析  \n",
    "1. **缺失值处理**  \n",
    "缺失值的处理手段大体可以分为：删除、填充、映射到高维(当做类别处理)。 \n",
    "此训练集上找到的缺失值只有特征pu和pv；\n",
    "另外，根据特征nunique分布的分析，可以发现rentType存在\"--\"的情况，这也算是一种缺失值；  \n",
    "rentType的\"未知方式\"和houseToward的\"暂无数据\"等，本质上也算是一种缺失值，但是对于这些缺失方式，我们可以把它当做是特殊的一类处理，而不需要去主动修改或填充值。  \n",
    "  \n",
    "将rentType的\"--\"转换成\"未知方式\"类别；  \n",
    "pv/pu的缺失值用均值填充；  \n",
    "buildYear存在\"暂无信息\"，将其用众数填充。  \n",
    "  \n",
    "  \n",
    "2. **转换object类型数据**  \n",
    "对类别型特征直接采用LabelEncoder的编码，转换成数值。 \n",
    "  \n",
    "  \n",
    "3. **时间字段的处理**  \n",
    "buildYear由于存在\"暂无信息\",所以需要主动将其转换int类型；\n",
    "buildYear可以和当前年份做差，得到房子已经有多少年历史了。\n",
    "tradeTime，将其分割成月和日。  \n",
    "  \n",
    "  \n",
    "4. **删除无关字段**  \n",
    "ID是唯一码，建模无用，所以直接删除；  \n",
    "city只有一个SH值，也直接删除；  \n",
    "tradeTime已经分割成年，月和日，删除原来字段"
   ]
  },
  {
   "cell_type": "code",
   "execution_count": 3,
   "metadata": {},
   "outputs": [
    {
     "data": {
      "text/plain": [
       "Text(0, 0.5, 'number of occurrences')"
      ]
     },
     "execution_count": 3,
     "metadata": {},
     "output_type": "execute_result"
    },
    {
     "data": {
      "image/png": "[encoded data removed]",
      "text/plain": [
       "<Figure size 432x288 with 1 Axes>"
      ]
     },
     "metadata": {
      "needs_background": "light"
     },
     "output_type": "display_data"
    }
   ],
   "source": [
    "sns.countplot(data_train['tradeMoney'])\n",
    "plt.xlabel(\"trade of money\")\n",
    "plt.ylabel(\"number of occurrences\")"
   ]
  },
  {
   "cell_type": "markdown",
   "metadata": {},
   "source": [
    "## 1. 缺失值处理 "
   ]
  },
  {
   "cell_type": "markdown",
   "metadata": {},
   "source": [
    "### 1）填充pv和uv的空值"
   ]
  },
  {
   "cell_type": "code",
   "execution_count": 4,
   "metadata": {},
   "outputs": [],
   "source": [
    "data_train['pv'].fillna(data_train['pv'].mean(), inplace=True)\n",
    "data_train['uv'].fillna(data_train['uv'].mean(), inplace=True)\n",
    "data_train['pv'] = data_train['pv'].astype('int')\n",
    "data_train['uv'] = data_train['uv'].astype('int')"
   ]
  },
  {
   "cell_type": "markdown",
   "metadata": {},
   "source": [
    "### 2)  对类别型特征做labelEncoder编码"
   ]
  },
  {
   "cell_type": "code",
   "execution_count": 5,
   "metadata": {},
   "outputs": [],
   "source": [
    "columns = ['rentType','houseType', 'houseFloor', 'houseToward', 'houseDecoration','communityName','region', 'plate']\n",
    "\n",
    "le = LabelEncoder()\n",
    "for col in columns:\n",
    "    data_train[col] = le.fit_transform(data_train[col])"
   ]
  },
  {
   "cell_type": "markdown",
   "metadata": {},
   "source": [
    "### 3) 对特殊缺失值做处理"
   ]
  },
  {
   "cell_type": "code",
   "execution_count": 6,
   "metadata": {},
   "outputs": [],
   "source": [
    "# 对rentType值是'--'转换成‘未知方式’\n",
    "data_train['rentType'][data_train['rentType'] == '--'] = '未知方式'\n",
    "\n",
    "# 对buildYear做处理\n",
    "buildYearMean = pd.DataFrame(data_train[data_train['buildYear']!='暂无信息']['buildYear'].mode())\n",
    "data_train.loc[data_train[data_train['buildYear'] == '暂无信息'].index, 'buildYear'] = buildYearMean.iloc[0,0]\n",
    "data_train['buildYear'] = data_train['buildYear'].astype('int')\n",
    "\n",
    "# 对交易时间做处理\n",
    "def year(x):\n",
    "    return int(x.split('/')[0])\n",
    "def month(x):\n",
    "    return int(x.split('/')[1])\n",
    "def day(x):\n",
    "    return int(x.split('/')[2])\n",
    "\n",
    "data_train['year'] = data_train['tradeTime'].apply(lambda x: year(x))\n",
    "data_train['month'] = data_train['tradeTime'].apply(lambda x: month(x))\n",
    "data_train['day'] = data_train['tradeTime'].apply(lambda x: day(x))\n"
   ]
  },
  {
   "cell_type": "code",
   "execution_count": 7,
   "metadata": {},
   "outputs": [
    {
     "name": "stdout",
     "output_type": "stream",
     "text": [
      "0        67\n",
      "1        13\n",
      "2        26\n",
      "3        26\n",
      "4        26\n",
      "         ..\n",
      "41435    11\n",
      "41436    16\n",
      "41437    20\n",
      "41438    22\n",
      "41439     5\n",
      "Name: age, Length: 41440, dtype: int32\n"
     ]
    }
   ],
   "source": [
    "from datetime import datetime\n",
    "\n",
    "now = datetime.now()\n",
    "current_year = int(now.strftime('%Y'))\n",
    "\n",
    "# 增加一个房子年龄的字段\n",
    "data_train['age'] = current_year - data_train['buildYear']\n",
    "print(data_train['age'])"
   ]
  },
  {
   "cell_type": "markdown",
   "metadata": {},
   "source": [
    "### 4) 去掉部分特征\n"
   ]
  },
  {
   "cell_type": "code",
   "execution_count": 9,
   "metadata": {},
   "outputs": [],
   "source": [
    "# ID 无用，city值只有一个SH，tradeTime已经提炼了年月日，所以去掉这三个特征\n",
    "data_train.drop(['ID','city','tradeTime'], axis=1, inplace=True)"
   ]
  },
  {
   "cell_type": "code",
   "execution_count": 10,
   "metadata": {},
   "outputs": [
    {
     "data": {
      "text/plain": [
       "area                  0\n",
       "rentType              0\n",
       "houseType             0\n",
       "houseFloor            0\n",
       "totalFloor            0\n",
       "houseToward           0\n",
       "houseDecoration       0\n",
       "communityName         0\n",
       "region                0\n",
       "plate                 0\n",
       "buildYear             0\n",
       "saleSecHouseNum       0\n",
       "subwayStationNum      0\n",
       "busStationNum         0\n",
       "interSchoolNum        0\n",
       "schoolNum             0\n",
       "privateSchoolNum      0\n",
       "hospitalNum           0\n",
       "drugStoreNum          0\n",
       "gymNum                0\n",
       "bankNum               0\n",
       "shopNum               0\n",
       "parkNum               0\n",
       "mallNum               0\n",
       "superMarketNum        0\n",
       "totalTradeMoney       0\n",
       "totalTradeArea        0\n",
       "tradeMeanPrice        0\n",
       "tradeSecNum           0\n",
       "totalNewTradeMoney    0\n",
       "totalNewTradeArea     0\n",
       "tradeNewMeanPrice     0\n",
       "tradeNewNum           0\n",
       "remainNewNum          0\n",
       "supplyNewNum          0\n",
       "supplyLandNum         0\n",
       "supplyLandArea        0\n",
       "tradeLandNum          0\n",
       "tradeLandArea         0\n",
       "landTotalPrice        0\n",
       "landMeanPrice         0\n",
       "totalWorkers          0\n",
       "newWorkers            0\n",
       "residentPopulation    0\n",
       "pv                    0\n",
       "uv                    0\n",
       "lookNum               0\n",
       "tradeMoney            0\n",
       "Type                  0\n",
       "year                  0\n",
       "month                 0\n",
       "day                   0\n",
       "age                   0\n",
       "dtype: int64"
      ]
     },
     "execution_count": 10,
     "metadata": {},
     "output_type": "execute_result"
    }
   ],
   "source": [
    "data_train.isnull().sum()"
   ]
  },
  {
   "cell_type": "markdown",
   "metadata": {},
   "source": [
    "# 异常值处理"
   ]
  },
  {
   "cell_type": "markdown",
   "metadata": {},
   "source": [
    "## 主要思路分析\n",
    "1. 处理不符合真实逻辑的特征\n",
    "  比如totalFloor为0\n",
    "2. 处理area和tradeMoney两个维度的关系\n",
    "针对tradeMoney，这里采用的是IsolationForest模型自动处理；  \n",
    "针对area是主观+数据可视化的方式得到的结果。\n"
   ]
  },
  {
   "cell_type": "code",
   "execution_count": 11,
   "metadata": {},
   "outputs": [
    {
     "name": "stdout",
     "output_type": "stream",
     "text": [
      "4236\n"
     ]
    }
   ],
   "source": [
    "communityName = len(data_train['communityName'].unique())\n",
    "print(communityName)"
   ]
  },
  {
   "cell_type": "markdown",
   "metadata": {},
   "source": [
    " 小区名称虽然取值有4236个，但是是正常的，所以不做处理"
   ]
  },
  {
   "cell_type": "code",
   "execution_count": 12,
   "metadata": {
    "ExecuteTime": {
     "end_time": "2019-12-24T12:27:52.586579Z",
     "start_time": "2019-12-24T12:27:48.467593Z"
    }
   },
   "outputs": [
    {
     "name": "stderr",
     "output_type": "stream",
     "text": [
      "D:\\Anaconda3\\lib\\site-packages\\sklearn\\ensemble\\iforest.py:415: DeprecationWarning: threshold_ attribute is deprecated in 0.20 and will be removed in 0.22.\n",
      "  \" be removed in 0.22.\", DeprecationWarning)\n"
     ]
    },
    {
     "name": "stdout",
     "output_type": "stream",
     "text": [
      "Int64Index([   62,    69,   128,   131,   246,   261,   266,   297,   308,\n",
      "              313,\n",
      "            ...\n",
      "            39224, 39228, 39319, 39347, 39352, 39434, 39563, 41080, 41083,\n",
      "            41233],\n",
      "           dtype='int64', length=403)\n"
     ]
    }
   ],
   "source": [
    "# clean data\n",
    "def IF_drop(train):\n",
    "    IForest = IsolationForest(contamination=0.01)\n",
    "    IForest.fit(train[\"tradeMoney\"].values.reshape(-1,1))\n",
    "    y_pred = IForest.predict(train[\"tradeMoney\"].values.reshape(-1,1))\n",
    "    drop_index = train.loc[y_pred==-1].index\n",
    "    print(drop_index)\n",
    "    train.drop(drop_index,inplace=True)\n",
    "    return train\n",
    "\n",
    "data_train = IF_drop(data_train)"
   ]
  },
  {
   "cell_type": "code",
   "execution_count": 13,
   "metadata": {
    "ExecuteTime": {
     "end_time": "2019-12-24T12:27:52.674346Z",
     "start_time": "2019-12-24T12:27:52.589572Z"
    }
   },
   "outputs": [],
   "source": [
    "#数据集异常值处理\n",
    "data_train = data_train[data_train.totalFloor != 0]\n",
    "data_train = data_train[data_train.area <= 200]\n",
    "data_train = data_train[(data_train.tradeMoney <=16000) & (data_train.tradeMoney >=700)]\n",
    "data_train.drop(data_train[(data_train['totalFloor'] == 0)].index, inplace=True)"
   ]
  },
  {
   "cell_type": "code",
   "execution_count": 14,
   "metadata": {
    "ExecuteTime": {
     "end_time": "2019-12-24T12:27:53.089272Z",
     "start_time": "2019-12-24T12:27:52.678334Z"
    }
   },
   "outputs": [
    {
     "data": {
      "image/png": "[encoded data removed]",
      "text/plain": [
       "<Figure size 1080x360 with 1 Axes>"
      ]
     },
     "metadata": {
      "needs_background": "light"
     },
     "output_type": "display_data"
    },
    {
     "data": {
      "image/png": "[encoded data removed]",
      "text/plain": [
       "<Figure size 1080x360 with 1 Axes>"
      ]
     },
     "metadata": {
      "needs_background": "light"
     },
     "output_type": "display_data"
    }
   ],
   "source": [
    "# 处理异常值后再次查看面积和租金分布图\n",
    "plt.figure(figsize=(15,5))\n",
    "sns.boxplot(data_train.area)\n",
    "plt.show()\n",
    "plt.figure(figsize=(15,5))\n",
    "sns.boxplot(data_train.tradeMoney),\n",
    "plt.show()"
   ]
  },
  {
   "cell_type": "markdown",
   "metadata": {},
   "source": [
    "# 深度清洗"
   ]
  },
  {
   "cell_type": "markdown",
   "metadata": {},
   "source": [
    "## 主要思路分析\n",
    "针对每一个region的数据，对area和tradeMoney两个维度进行深度清洗。 \n",
    "采用主观+数据可视化的方式。"
   ]
  },
  {
   "cell_type": "code",
   "execution_count": 15,
   "metadata": {
    "ExecuteTime": {
     "end_time": "2019-12-24T12:28:26.188690Z",
     "start_time": "2019-12-24T12:28:25.073675Z"
    }
   },
   "outputs": [],
   "source": [
    "def cleanData(data):\n",
    "    data.drop(data[(data['region']=='RG00001') & (data['tradeMoney']<1000)&(data['area']>50)].index,inplace=True)\n",
    "    data.drop(data[(data['region']=='RG00001') & (data['tradeMoney']>25000)].index,inplace=True)\n",
    "    data.drop(data[(data['region']=='RG00001') & (data['area']>250)&(data['tradeMoney']<20000)].index,inplace=True)\n",
    "    data.drop(data[(data['region']=='RG00001') & (data['area']>400)&(data['tradeMoney']>50000)].index,inplace=True)\n",
    "    data.drop(data[(data['region']=='RG00001') & (data['area']>100)&(data['tradeMoney']<2000)].index,inplace=True)\n",
    "    data.drop(data[(data['region']=='RG00002') & (data['area']<100)&(data['tradeMoney']>60000)].index,inplace=True)\n",
    "    data.drop(data[(data['region']=='RG00003') & (data['area']<300)&(data['tradeMoney']>30000)].index,inplace=True)\n",
    "    data.drop(data[(data['region']=='RG00003') & (data['tradeMoney']<500)&(data['area']<50)].index,inplace=True)\n",
    "    data.drop(data[(data['region']=='RG00003') & (data['tradeMoney']<1500)&(data['area']>100)].index,inplace=True)\n",
    "    data.drop(data[(data['region']=='RG00003') & (data['tradeMoney']<2000)&(data['area']>300)].index,inplace=True)\n",
    "    data.drop(data[(data['region']=='RG00003') & (data['tradeMoney']>5000)&(data['area']<20)].index,inplace=True)\n",
    "    data.drop(data[(data['region']=='RG00003') & (data['area']>600)&(data['tradeMoney']>40000)].index,inplace=True)\n",
    "    data.drop(data[(data['region']=='RG00004') & (data['tradeMoney']<1000)&(data['area']>80)].index,inplace=True)\n",
    "    data.drop(data[(data['region']=='RG00006') & (data['tradeMoney']<200)].index,inplace=True)\n",
    "    data.drop(data[(data['region']=='RG00005') & (data['tradeMoney']<2000)&(data['area']>180)].index,inplace=True)\n",
    "    data.drop(data[(data['region']=='RG00005') & (data['tradeMoney']>50000)&(data['area']<200)].index,inplace=True)\n",
    "    data.drop(data[(data['region']=='RG00006') & (data['area']>200)&(data['tradeMoney']<2000)].index,inplace=True)\n",
    "    data.drop(data[(data['region']=='RG00007') & (data['area']>100)&(data['tradeMoney']<2500)].index,inplace=True)\n",
    "    data.drop(data[(data['region']=='RG00010') & (data['area']>200)&(data['tradeMoney']>25000)].index,inplace=True)\n",
    "    data.drop(data[(data['region']=='RG00010') & (data['area']>400)&(data['tradeMoney']<15000)].index,inplace=True)\n",
    "    data.drop(data[(data['region']=='RG00010') & (data['tradeMoney']<3000)&(data['area']>200)].index,inplace=True)\n",
    "    data.drop(data[(data['region']=='RG00010') & (data['tradeMoney']>7000)&(data['area']<75)].index,inplace=True)\n",
    "    data.drop(data[(data['region']=='RG00010') & (data['tradeMoney']>12500)&(data['area']<100)].index,inplace=True)\n",
    "    data.drop(data[(data['region']=='RG00004') & (data['area']>400)&(data['tradeMoney']>20000)].index,inplace=True)\n",
    "    data.drop(data[(data['region']=='RG00008') & (data['tradeMoney']<2000)&(data['area']>80)].index,inplace=True)\n",
    "    data.drop(data[(data['region']=='RG00009') & (data['tradeMoney']>40000)].index,inplace=True)\n",
    "    data.drop(data[(data['region']=='RG00009') & (data['area']>300)].index,inplace=True)\n",
    "    data.drop(data[(data['region']=='RG00009') & (data['area']>100)&(data['tradeMoney']<2000)].index,inplace=True)\n",
    "    data.drop(data[(data['region']=='RG00011') & (data['tradeMoney']<10000)&(data['area']>390)].index,inplace=True)\n",
    "    data.drop(data[(data['region']=='RG00012') & (data['area']>120)&(data['tradeMoney']<5000)].index,inplace=True)\n",
    "    data.drop(data[(data['region']=='RG00013') & (data['area']<100)&(data['tradeMoney']>40000)].index,inplace=True)\n",
    "    data.drop(data[(data['region']=='RG00013') & (data['area']>400)&(data['tradeMoney']>50000)].index,inplace=True)\n",
    "    data.drop(data[(data['region']=='RG00013') & (data['area']>80)&(data['tradeMoney']<2000)].index,inplace=True)\n",
    "    data.drop(data[(data['region']=='RG00014') & (data['area']>300)&(data['tradeMoney']>40000)].index,inplace=True)\n",
    "    data.drop(data[(data['region']=='RG00014') & (data['tradeMoney']<1300)&(data['area']>80)].index,inplace=True)\n",
    "    data.drop(data[(data['region']=='RG00014') & (data['tradeMoney']<8000)&(data['area']>200)].index,inplace=True)\n",
    "    data.drop(data[(data['region']=='RG00014') & (data['tradeMoney']<1000)&(data['area']>20)].index,inplace=True)\n",
    "    data.drop(data[(data['region']=='RG00014') & (data['tradeMoney']>25000)&(data['area']>200)].index,inplace=True)\n",
    "    data.drop(data[(data['region']=='RG00014') & (data['tradeMoney']<20000)&(data['area']>250)].index,inplace=True)\n",
    "    data.drop(data[(data['region']=='RG00005') & (data['tradeMoney']>30000)&(data['area']<100)].index,inplace=True)\n",
    "    data.drop(data[(data['region']=='RG00005') & (data['tradeMoney']<50000)&(data['area']>600)].index,inplace=True)\n",
    "    data.drop(data[(data['region']=='RG00005') & (data['tradeMoney']>50000)&(data['area']>350)].index,inplace=True)\n",
    "    data.drop(data[(data['region']=='RG00006') & (data['tradeMoney']>4000)&(data['area']<100)].index,inplace=True)\n",
    "    data.drop(data[(data['region']=='RG00006') & (data['tradeMoney']<600)&(data['area']>100)].index,inplace=True)\n",
    "    data.drop(data[(data['region']=='RG00006') & (data['area']>165)].index,inplace=True)\n",
    "    data.drop(data[(data['region']=='RG00012') & (data['tradeMoney']<800)&(data['area']<30)].index,inplace=True)\n",
    "    data.drop(data[(data['region']=='RG00007') & (data['tradeMoney']<1100)&(data['area']>50)].index,inplace=True)\n",
    "    data.drop(data[(data['region']=='RG00004') & (data['tradeMoney']>8000)&(data['area']<80)].index,inplace=True)\n",
    "    data.loc[(data['region']=='RG00002')&(data['area']>50)&(data['rentType']=='合租'),'rentType']='整租'\n",
    "    data.loc[(data['region']=='RG00014')&(data['rentType']=='合租')&(data['area']>60),'rentType']='整租'\n",
    "    data.drop(data[(data['region']=='RG00008')&(data['tradeMoney']>15000)&(data['area']<110)].index,inplace=True)\n",
    "    data.drop(data[(data['region']=='RG00008')&(data['tradeMoney']>20000)&(data['area']>110)].index,inplace=True)\n",
    "    data.drop(data[(data['region']=='RG00008')&(data['tradeMoney']<1500)&(data['area']<50)].index,inplace=True)\n",
    "    data.drop(data[(data['region']=='RG00008')&(data['rentType']=='合租')&(data['area']>50)].index,inplace=True)\n",
    "    data.drop(data[(data['region']=='RG00015')].index,inplace=True)\n",
    "    data.reset_index(drop=True, inplace=True)\n",
    "    return data\n",
    "\n",
    "data_train = cleanData(data_train)"
   ]
  },
  {
   "cell_type": "markdown",
   "metadata": {},
   "source": [
    " 深度清洗这部分的数值筛选不是很明白怎么确定下来的，还需要再研究研究"
   ]
  },
  {
   "cell_type": "code",
   "execution_count": 17,
   "metadata": {},
   "outputs": [],
   "source": [
    "data_train.to_csv(\"./data/FE_Housing_train.csv\", index=False, header=True)"
   ]
  },
  {
   "cell_type": "code",
   "execution_count": null,
   "metadata": {},
   "outputs": [],
   "source": []
  }
 ],
 "metadata": {
  "kernelspec": {
   "display_name": "Python 3",
   "language": "python",
   "name": "python3"
  },
  "language_info": {
   "codemirror_mode": {
    "name": "ipython",
    "version": 3
   },
   "file_extension": ".py",
   "mimetype": "text/x-python",
   "name": "python",
   "nbconvert_exporter": "python",
   "pygments_lexer": "ipython3",
   "version": "3.7.3"
  },
  "toc": {
   "base_numbering": 1,
   "nav_menu": {},
   "number_sections": true,
   "sideBar": true,
   "skip_h1_title": false,
   "title_cell": "Table of Contents",
   "title_sidebar": "Contents",
   "toc_cell": false,
   "toc_position": {
    "height": "calc(100% - 180px)",
    "left": "10px",
    "top": "150px",
    "width": "307.2px"
   },
   "toc_section_display": true,
   "toc_window_display": true
  }
 },
 "nbformat": 4,
 "nbformat_minor": 2
}
